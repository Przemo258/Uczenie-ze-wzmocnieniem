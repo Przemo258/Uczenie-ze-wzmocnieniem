{
 "cells": [
  {
   "attachments": {},
   "cell_type": "markdown",
   "metadata": {},
   "source": [
    "# Vanilla Deep Q-Learning \n",
    "---\n",
    "In this notebook, you will implement a DQN agent with OpenAI Gym's [Cart Pole](https://www.gymlibrary.dev/environments/classic_control/cart_pole/) - environment.\n",
    "\n",
    "<a target=\"_blank\" href=\"https://colab.research.google.com/github/PrzemekSekula/ReinforcementLearningClasses/blob/master/DQLearning/00_VanillaDQL.ipynb\">\n",
    "    <img src=\"https://www.tensorflow.org/images/colab_logo_32px.png\" />\n",
    "    Run in Google Colab</a>\n",
    "\n",
    "\n",
    "This is a relatively simple version of the algorithm, it differs from classical Q-Learning in four main ways:\n",
    "- we are using a neural network to estimate the state-action value\n",
    "- the neural network estimates all state-action values for a given state\n",
    "- we are using Replay Buffer to store the `s, a, r, s', done` tuples, and learning from the data sampled from the Replay Buffer, not from immediate experience.\n",
    "- we are using the decaying exploration rate $\\epsilon$. In the beginning of learning the agent is exploring a lot, and the exploration rate is reduced in time.\n",
    "\n",
    "Your task is to complete the code in this notebook. The places were you should create your own implementation are described in this notebook and marked with `# ENTER YOUR CODE HERE` comments.\n",
    "\n",
    "*Note: This code uses replay buffer implemented in the `reply_buffer.py` file. This implementation comes from [OpenAI baselines GitHub repository](https://github.com/openai/baselines/tree/master/baselines/deepq).*\n"
   ]
  },
  {
   "cell_type": "code",
   "execution_count": 1,
   "metadata": {
    "ExecuteTime": {
     "end_time": "2023-06-13T14:40:41.504494100Z",
     "start_time": "2023-06-13T14:40:41.495299600Z"
    }
   },
   "outputs": [],
   "source": [
    "import sys\n",
    "IN_COLAB = \"google.colab\" in sys.modules\n",
    "\n",
    "if IN_COLAB:\n",
    "    !pip install --upgrade gym\n",
    "    !wget https://raw.githubusercontent.com/PrzemekSekula/ReinforcementLearningClasses/main/DQLearning/replay_buffer.py\n",
    "    !wget https://raw.githubusercontent.com/PrzemekSekula/ReinforcementLearningClasses/main/DQLearning/segment_tree.py"
   ]
  },
  {
   "cell_type": "code",
   "execution_count": 2,
   "metadata": {
    "ExecuteTime": {
     "end_time": "2023-06-13T14:40:43.381091700Z",
     "start_time": "2023-06-13T14:40:41.507590Z"
    }
   },
   "outputs": [
    {
     "name": "stdout",
     "output_type": "stream",
     "text": [
      "Device: privateuseone:0\n"
     ]
    }
   ],
   "source": [
    "# Import packages\n",
    "import gym\n",
    "import torch\n",
    "import torch_directml as dml\n",
    "import numpy as np\n",
    "from collections import deque\n",
    "import matplotlib.pyplot as plt\n",
    "%matplotlib inline\n",
    "\n",
    "if torch.cuda.is_available():\n",
    "    device = torch.device(\"cuda:0\")\n",
    "elif dml.is_available():\n",
    "    device = dml.device(dml.default_device())\n",
    "else:\n",
    "    device = torch.device(\"cpu\")\n",
    "\n",
    "print ('Device:', device)"
   ]
  },
  {
   "cell_type": "code",
   "execution_count": 3,
   "metadata": {
    "ExecuteTime": {
     "end_time": "2023-06-13T14:40:43.393196900Z",
     "start_time": "2023-06-13T14:40:43.379091700Z"
    }
   },
   "outputs": [],
   "source": [
    "env = gym.make('CartPole-v1')"
   ]
  },
  {
   "attachments": {},
   "cell_type": "markdown",
   "metadata": {},
   "source": [
    "### Task 1 - Implement the neural network\n",
    "Implement the neural network (`QNetwork` class):\n",
    "1) In `__init__()` Create a neural network\n",
    "2) In `forward()` implement the forward pass with ReLU"
   ]
  },
  {
   "cell_type": "code",
   "execution_count": 4,
   "metadata": {
    "ExecuteTime": {
     "end_time": "2023-06-13T14:40:43.467074800Z",
     "start_time": "2023-06-13T14:40:43.394197500Z"
    }
   },
   "outputs": [],
   "source": [
    "import torch\n",
    "import torch.nn as nn\n",
    "import torch.nn.functional as F\n",
    "import torch.optim as optim\n",
    "\n",
    "\n",
    "class QNetwork(nn.Module):\n",
    "    \"\"\"Fully connected (dense) neural network that estimates Q values.\"\"\"\n",
    "\n",
    "    def __init__(self, state_size, action_size, fc1_units=64, fc2_units=64):\n",
    "        \"\"\"Initialize parameters and build model.\n",
    "        Args:\n",
    "            state_size (int): Dimension of each state. It equals\n",
    "                the number of features in the network.\n",
    "            action_size (int): Dimension of each action. It equals \n",
    "                the number of the network outputs\n",
    "            fc1_units (int): Number of nodes in first hidden layer\n",
    "            fc2_units (int): Number of nodes in second hidden layer\n",
    "        \"\"\"\n",
    "        super(QNetwork, self).__init__()\n",
    "        \n",
    "        self.fc1 = nn.Linear(state_size, fc1_units) # ENTER YOUR CODE HERE\n",
    "        self.fc2 = nn.Linear(fc1_units, fc2_units) # ENTER YOUR CODE HERE\n",
    "        self.fc3 = nn.Linear(fc2_units, action_size) # ENTER YOUR CODE HERE\n",
    "\n",
    "    def forward(self, state):\n",
    "        \"\"\"Build a network that maps state -> action values.\n",
    "        Args:\n",
    "            state (torch.Tensor): The state of the environment\n",
    "        Returns:\n",
    "            torch.Tensor: The action values\n",
    "        \"\"\"\n",
    "        # ENTER YOUR CODE HERE\n",
    "        out = F.relu(self.fc1(state))\n",
    "        out = F.relu(self.fc2(out))\n",
    "        out = self.fc3(out)\n",
    "        return out"
   ]
  },
  {
   "attachments": {},
   "cell_type": "markdown",
   "metadata": {},
   "source": [
    "### Task 2 - Implement the Agent:\n",
    "Implement the `Agent` class.\n",
    "1) In `__init__()` create a neural network, optimizer and Replay Buffer\n",
    "2) In `step()` add the experience to the memory buffer\n",
    "3) In `learn()` calculate `Q_targets` and `loss`"
   ]
  },
  {
   "cell_type": "code",
   "execution_count": 5,
   "metadata": {
    "ExecuteTime": {
     "end_time": "2023-06-13T14:40:43.536756100Z",
     "start_time": "2023-06-13T14:40:43.417540400Z"
    }
   },
   "outputs": [],
   "source": [
    "import numpy as np\n",
    "import random\n",
    "\n",
    "from replay_buffer import ReplayBuffer\n",
    "\n",
    "if torch.cuda.is_available():\n",
    "    device = torch.device(\"cuda:0\")\n",
    "elif dml.is_available():\n",
    "    device = dml.device(dml.default_device())\n",
    "else:\n",
    "    device = torch.device(\"cpu\")\n",
    "\n",
    "class Agent():\n",
    "    \"\"\"Interacts with and learns from the environment.\"\"\"\n",
    "\n",
    "    def __init__(self, state_size, action_size,\n",
    "                 buffer_size = int(1e5),\n",
    "                 batch_size = 64,\n",
    "                 gamma = 0.99,\n",
    "                 lr = 5e-4,\n",
    "                 update_every = 4,\n",
    "                 device = None):\n",
    "        \"\"\"Initialize an Agent object.\n",
    "        Args:\n",
    "            state_size (int): dimension of each state\n",
    "            action_size (int): dimension of each action\n",
    "            buffer_size (int): replay buffer size. Default: int(1e5)\n",
    "            batch_size (int): minibatch size. Default: 64\n",
    "            gamma (float): discount factor. Default: 0.99\n",
    "            lr (float): learning rate. Default: 5e-4\n",
    "            update_every (int): how often to update the network. Default: 1        \n",
    "            device (torch.device): device to use. Default: None    \n",
    "        \"\"\"\n",
    "        self.state_size = state_size\n",
    "        self.action_size = action_size\n",
    "        self.buffer_size = buffer_size\n",
    "        self.batch_size = batch_size\n",
    "        self.gamma = gamma\n",
    "        self.lr = lr\n",
    "        self.update_every = update_every\n",
    "        self.device = device\n",
    "\n",
    "        # Q-Network\n",
    "        fc1, fc2 = 64, 16 # Size of the layers\n",
    "        # TODO: Create a network with 2 hidden layers (fc1 and fc2 nodes)\n",
    "        # ENTER YOUR CODE HERE\n",
    "        self.qnetwork = QNetwork(state_size, action_size, fc1, fc2).to(self.device)\n",
    "        \n",
    "        # TODO: Create the optimizer (Adam with learning rate lr)\n",
    "        # ENTER YOUR CODE HERE\n",
    "        self.optimizer = optim.Adam(self.qnetwork.parameters(), self.lr)\n",
    "\n",
    "        # TODO: Create a Replay Buffer. Use ReplayBuffer class from the \n",
    "        # reply_buffer.py file. Use buffer_size as the buffer size\n",
    "        # ENTER YOUR CODE HERE\n",
    "        self.memory = ReplayBuffer(buffer_size)\n",
    "\n",
    "        # Initialize time step (for updating every self.update_every steps)\n",
    "        self.t_step = 0\n",
    "    \n",
    "    def step(self, state, action, reward, next_state, done):\n",
    "        \n",
    "        # TODO: Save experience in replay buffer. Use self.memory.add()\n",
    "        # ENTER YOUR CODE HERE\n",
    "        self.memory.add(state, action, reward, next_state, done)\n",
    "        \n",
    "        # Learn every self.update_every time steps.\n",
    "        self.t_step = (self.t_step + 1) % self.update_every\n",
    "        if self.t_step == 0:\n",
    "            # If enough samples are available in memory, get random subset and learn\n",
    "            if len(self.memory) > self.batch_size:\n",
    "                experiences = self.memory.sample(self.batch_size)\n",
    "                self.learn(experiences)\n",
    "\n",
    "    def act(self, state, eps=0.):\n",
    "        \"\"\"Returns actions for given state as per current policy.\n",
    "        \n",
    "        Params\n",
    "        ======\n",
    "            state (array_like): current state\n",
    "            eps (float): epsilon, for epsilon-greedy action selection\n",
    "        \"\"\"\n",
    "        state = torch.from_numpy(state).float().unsqueeze(0).to(device)\n",
    "        self.qnetwork.eval()\n",
    "        with torch.no_grad():\n",
    "            action_values = self.qnetwork(state)\n",
    "        self.qnetwork.train()\n",
    "\n",
    "        # Epsilon-greedy action selection\n",
    "        if random.random() > eps:\n",
    "            return np.argmax(action_values.cpu().data.numpy())\n",
    "        else:\n",
    "            return random.choice(np.arange(self.action_size))\n",
    "\n",
    "    def learn(self, experiences):\n",
    "        \"\"\"Update value parameters using given batch of experience tuples.\n",
    "\n",
    "        Params\n",
    "        ======\n",
    "            experiences (Tuple[torch.Variable]): tuple of (s, a, r, s', done) tuples \n",
    "            gamma (float): discount factor\n",
    "        \"\"\"\n",
    "        states, actions, rewards, next_states, dones = experiences\n",
    "        \n",
    "        device = self.device  # for shortening the following lines\n",
    "        states = torch.FloatTensor(states).to(device)\n",
    "        actions = torch.LongTensor(actions.reshape(-1, 1)).to(device)\n",
    "        rewards = torch.FloatTensor(rewards.reshape(-1, 1)).to(device)\n",
    "        next_states = torch.FloatTensor(next_states).to(device)\n",
    "        dones = torch.FloatTensor(dones.reshape(-1, 1)).to(device)        \n",
    "        \n",
    "        # Get max predicted Q values (for next states) from target model\n",
    "        Q_next = self.qnetwork(next_states).detach().max(dim=1, keepdim=True)[0]\n",
    "        # TODO: Compute TD targets \n",
    "        # ENTER YOUR CODE HERE\n",
    "        TD_target = rewards + (self.gamma * Q_next * (1 - dones))\n",
    "\n",
    "        # Get expected Q values\n",
    "        Q_curr = self.qnetwork(states).gather(1, actions)\n",
    "\n",
    "        # TODO: Calculate loss. Use F.mse_loss\n",
    "        # ENTER YOUR CODE HERE\n",
    "        loss = F.mse_loss(Q_curr, TD_target)\n",
    "\n",
    "        # Minimize the loss\n",
    "        self.optimizer.zero_grad()\n",
    "        loss.backward()\n",
    "        self.optimizer.step()\n",
    "        \n",
    "    def save(self, path = 'checkpoint-vanilla.pth'):\n",
    "        \"\"\"Saves the network\n",
    "        Args:\n",
    "            path (str): path to save the network. Default is 'checkpoint.pth'\n",
    "        \"\"\"\n",
    "        torch.save(self.qnetwork.state_dict(), path)\n",
    " \n",
    " \n",
    "    def load(self, path = 'checkpoint-vanilla.pth'):\n",
    "        \"\"\"Loads the network\n",
    "        Args:\n",
    "            path (str): path with the weights. Default is 'checkpoint.pth'\n",
    "        \"\"\"\n",
    "        self.qnetwork.load_state_dict(torch.load(path))\n",
    "        \n",
    "agent = Agent(\n",
    "    state_size=env.observation_space.shape[0], \n",
    "    action_size=env.action_space.n, device = device)        "
   ]
  },
  {
   "attachments": {},
   "cell_type": "markdown",
   "metadata": {},
   "source": [
    "### Task 3. Train the Agent\n",
    "Complete the `train_agent()` function.\n",
    "1) Select and perform an action\n",
    "2) Use `agent.step()` to update the agent's knowledge\n",
    "3) Decay the explorarion rate epsilon\n"
   ]
  },
  {
   "cell_type": "code",
   "execution_count": 6,
   "metadata": {
    "ExecuteTime": {
     "end_time": "2023-06-13T14:40:43.536756100Z",
     "start_time": "2023-06-13T14:40:43.504376500Z"
    }
   },
   "outputs": [],
   "source": [
    "def train_agent(\n",
    "        n_episodes = 3000,    # Maximum number of episodes\n",
    "        max_t = 1000,         # Maximum number of timesteps per episode\n",
    "        eps_start = 1.0,      # Starting value of epsilon\n",
    "        eps_end = 0.01,       # Minimum value of epsilon\n",
    "        eps_decay = 0.995,    # Decay rate of epsilon\n",
    "        expected_reward = 300 # Expected average reward to solve the environment def 230\n",
    "\n",
    "        ):\n",
    "    \"\"\"Deep Q-Learning.\n",
    "    Args:\n",
    "        n_episodes (int): maximum number of training episodes\n",
    "        max_t (int): maximum number of timesteps per episode\n",
    "        eps_start (float): starting value of epsilon, for \n",
    "            epsilon-greedy action selection\n",
    "        eps_end (float): minimum value of epsilon\n",
    "        eps_decay (float): decay factor (per episode) \n",
    "            for decreasing epsilon\n",
    "        expected_reward (float): finish when the average score\n",
    "            is greater than this value\n",
    "    Returns:\n",
    "        scores (list): list of scores from each episode\n",
    "    \"\"\"\n",
    "    scores = []                        \n",
    "    scores_window = deque(maxlen=100)  \n",
    "    eps = eps_start                    \n",
    "    for episode in range(1, n_episodes+1):\n",
    "        state, info = env.reset()\n",
    "        score = 0\n",
    "        for t in range(max_t):\n",
    "            # TO DO: select an action\n",
    "            action = agent.act(state, eps) # ENTER YOUR CODE HERE\n",
    "            next_state, reward, done, truncated, info = env.step(action)\n",
    "            \n",
    "            # TO DO: use agent.step() to update the agent\n",
    "            # ENTER YOUR CODE HERE\n",
    "            agent.step(state, action, reward, next_state, done)\n",
    "            \n",
    "            state = next_state\n",
    "            score += reward\n",
    "            if done:\n",
    "                break \n",
    "        scores_window.append(score)       \n",
    "        scores.append(score)\n",
    "        \n",
    "        # TODO: Decay epsilon by multiplying it by eps_decay\n",
    "        # ENTER YOUR CODE HERE\n",
    "        eps = eps * eps_decay if eps > eps_end else eps_end\n",
    "        \n",
    "        mean_score = np.mean(scores_window)\n",
    "        \n",
    "        print(f'\\rEpisode {episode}\\tAverage Score: {mean_score:.2f}     ', end=\"\")\n",
    "        \n",
    "        if episode % 100 == 0:\n",
    "            \n",
    "            print(f'\\rEpisode {episode}\\tAverage Score: {mean_score:.2f}')\n",
    "            agent.save('checkpoints/checkpoint-vanilla.pth')\n",
    "        if mean_score >= expected_reward:\n",
    "            print(f'\\nDone in {episode:d} episodes!\\tAverage Score: {mean_score:.2f}')\n",
    "            agent.save('checkpoints/checkpoint-vanilla.pth')\n",
    "            break\n",
    "    return scores"
   ]
  },
  {
   "cell_type": "markdown",
   "source": [
    "### Train the agent"
   ],
   "metadata": {
    "collapsed": false
   }
  },
  {
   "cell_type": "code",
   "execution_count": 7,
   "metadata": {
    "ExecuteTime": {
     "end_time": "2023-06-13T14:42:01.579065100Z",
     "start_time": "2023-06-13T14:40:43.518569600Z"
    }
   },
   "outputs": [
    {
     "name": "stdout",
     "output_type": "stream",
     "text": [
      "Episode 100\tAverage Score: 20.00     \n",
      "Episode 200\tAverage Score: 14.78     \n",
      "Episode 300\tAverage Score: 42.59     \n",
      "Episode 400\tAverage Score: 107.03     \n",
      "Episode 500\tAverage Score: 102.99     \n",
      "Episode 600\tAverage Score: 206.67     \n",
      "Episode 632\tAverage Score: 300.02     \n",
      "Done in 632 episodes!\tAverage Score: 300.02\n"
     ]
    },
    {
     "data": {
      "text/plain": "<Figure size 640x480 with 1 Axes>",
      "image/png": "[encoded data removed]"
     },
     "metadata": {},
     "output_type": "display_data"
    }
   ],
   "source": [
    "scores = train_agent()\n",
    "\n",
    "# plot the scores\n",
    "fig = plt.figure()\n",
    "ax = fig.add_subplot(111)\n",
    "plt.plot(np.arange(len(scores)), scores)\n",
    "plt.ylabel('Score')\n",
    "plt.xlabel('Episode #')\n",
    "plt.show()"
   ]
  },
  {
   "attachments": {},
   "cell_type": "markdown",
   "metadata": {},
   "source": [
    "### Visualize the agent's performance"
   ]
  },
  {
   "cell_type": "code",
   "execution_count": 8,
   "metadata": {
    "ExecuteTime": {
     "end_time": "2023-06-13T14:42:02.820480600Z",
     "start_time": "2023-06-13T14:42:01.582093500Z"
    }
   },
   "outputs": [
    {
     "name": "stderr",
     "output_type": "stream",
     "text": [
      "C:\\Users\\Przemek\\AppData\\Local\\Programs\\Python\\Python310\\lib\\site-packages\\gym\\envs\\classic_control\\cartpole.py:177: UserWarning: \u001B[33mWARN: You are calling 'step()' even though this environment has already returned terminated = True. You should always call 'reset()' once you receive 'terminated = True' -- any further steps are undefined behavior.\u001B[0m\n",
      "  logger.warn(\n",
      "IMAGEIO FFMPEG_WRITER WARNING: input image is not divisible by macro_block_size=16, resizing from (600, 400) to (608, 400) to ensure video compatibility with most codecs and players. To prevent resizing, make your input image divisible by the macro_block_size or set the macro_block_size to 1 (risking incompatibility).\n"
     ]
    },
    {
     "name": "stdout",
     "output_type": "stream",
     "text": [
      "Visualization done. Episode ended after 253 steps.\n"
     ]
    },
    {
     "data": {
      "text/plain": "<IPython.core.display.HTML object>",
      "text/html": "\n    <video width=400 controls>\n        <source src=\"data:video/mp4;base64,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\" type=\"video/mp4\">\n    </video>\n    "
     },
     "execution_count": 8,
     "metadata": {},
     "output_type": "execute_result"
    }
   ],
   "source": [
    "from IPython.display import HTML\n",
    "from base64 import b64encode\n",
    "import imageio\n",
    "\n",
    "def create_video(agent, video_path):\n",
    "    \"\"\"\n",
    "    Creates a video of the agent acting in the environment\n",
    "    Args:\n",
    "        agent (Agent): agent to act in the environment\n",
    "        video_path (str): path to save the video\n",
    "    Returns:\n",
    "        url str: url with the video (open it with Ipython.display.HTML)\n",
    "    \"\"\"\n",
    "    env = gym.make('CartPole-v1', render_mode = 'rgb_array')\n",
    "\n",
    "    state, _ = env.reset()\n",
    "    img_list = [env.render()]\n",
    "\n",
    "    for t in range(1000):\n",
    "        action = agent.act(state, 0)\n",
    "        state, reward, done, _, _ = env.step(action)\n",
    "        img_list.append(env.render())\n",
    "        state, reward, done, _, _ = env.step(action)\n",
    "        if done:\n",
    "            break \n",
    "    env.close()\n",
    "\n",
    "    # Create a video file using imageio\n",
    "    imageio.mimsave(video_path, img_list, fps=30)\n",
    "\n",
    "    print (f'Visualization done. Episode ended after {t} steps.')\n",
    "    \n",
    "    mp4 = open(video_path,'rb').read()\n",
    "    data_url = \"data:video/mp4;base64,\" + b64encode(mp4).decode()\n",
    "    return \"\"\"\n",
    "    <video width=400 controls>\n",
    "        <source src=\"%s\" type=\"video/mp4\">\n",
    "    </video>\n",
    "    \"\"\" % data_url\n",
    "\n",
    "\n",
    "\n",
    "video_url = create_video(agent, 'output-vanilla.mp4')\n",
    "HTML(video_url)\n"
   ]
  }
 ],
 "metadata": {
  "kernelspec": {
   "display_name": "Python 3",
   "language": "python",
   "name": "python3"
  },
  "language_info": {
   "codemirror_mode": {
    "name": "ipython",
    "version": 3
   },
   "file_extension": ".py",
   "mimetype": "text/x-python",
   "name": "python",
   "nbconvert_exporter": "python",
   "pygments_lexer": "ipython3",
   "version": "3.9.12"
  }
 },
 "nbformat": 4,
 "nbformat_minor": 2
}
